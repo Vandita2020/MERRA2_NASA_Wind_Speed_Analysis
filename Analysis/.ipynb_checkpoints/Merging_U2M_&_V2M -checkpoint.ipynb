{
 "cells": [
  {
   "cell_type": "markdown",
   "id": "8f1f9c63",
   "metadata": {},
   "source": [
    "# Merging U2M and V2M data and calculating Wind Speed "
   ]
  },
  {
   "cell_type": "code",
   "execution_count": 1,
   "id": "a05d060c",
   "metadata": {},
   "outputs": [],
   "source": [
    "import pandas as pd\n",
    "import numpy as np"
   ]
  },
  {
   "cell_type": "code",
   "execution_count": 2,
   "id": "0ea5ad51",
   "metadata": {},
   "outputs": [],
   "source": [
    "# Load Wind data\n",
    "df1 = pd.read_csv(\"../merradownload/2M Eastward Wind/North Carolina_monthly.csv\")\n",
    "df2 = pd.read_csv(\"../merradownload/2M Northward Wind/North Carolina_monthly.csv\")"
   ]
  },
  {
   "cell_type": "code",
   "execution_count": 3,
   "id": "0f228e1c",
   "metadata": {},
   "outputs": [],
   "source": [
    "df1['month'] = [str(x).split('-')[-1] for x in df1['date']]\n",
    "df1['year'] = [str(x).split('-')[0] for x in df1['date']]"
   ]
  },
  {
   "cell_type": "code",
   "execution_count": 4,
   "id": "30c40c69",
   "metadata": {},
   "outputs": [],
   "source": [
    "df2['month'] = [str(x).split('-')[-1] for x in df2['date']]\n",
    "df2['year'] = [str(x).split('-')[0] for x in df2['date']]"
   ]
  },
  {
   "cell_type": "code",
   "execution_count": 5,
   "id": "aa65caf5",
   "metadata": {},
   "outputs": [],
   "source": [
    "df1 = df1.drop(columns=['date'])\n",
    "df2 = df2.drop(columns=['date'])"
   ]
  },
  {
   "cell_type": "code",
   "execution_count": 6,
   "id": "cc48145d",
   "metadata": {},
   "outputs": [],
   "source": [
    "# Merging both wind data\n",
    "df = pd.merge(df1, df2, on= ['lat','lon','year','month'])"
   ]
  },
  {
   "cell_type": "code",
   "execution_count": 7,
   "id": "c05fe1c0",
   "metadata": {},
   "outputs": [],
   "source": [
    "df = df[['year','month','lat','lon','U2M','V2M']]"
   ]
  },
  {
   "cell_type": "code",
   "execution_count": 8,
   "id": "a3117905",
   "metadata": {},
   "outputs": [],
   "source": [
    "df['wind_speed'] = np.sqrt(df['U2M']**2 + df['V2M']**2)\n",
    "df['wind_direction'] = np.arctan2(df['V2M'],df['U2M'])\n",
    "df['state'] = 'North Carolina'"
   ]
  },
  {
   "cell_type": "code",
   "execution_count": 9,
   "id": "d9636ec0",
   "metadata": {
    "scrolled": true
   },
   "outputs": [
    {
     "data": {
      "text/html": [
       "<div>\n",
       "<style scoped>\n",
       "    .dataframe tbody tr th:only-of-type {\n",
       "        vertical-align: middle;\n",
       "    }\n",
       "\n",
       "    .dataframe tbody tr th {\n",
       "        vertical-align: top;\n",
       "    }\n",
       "\n",
       "    .dataframe thead th {\n",
       "        text-align: right;\n",
       "    }\n",
       "</style>\n",
       "<table border=\"1\" class=\"dataframe\">\n",
       "  <thead>\n",
       "    <tr style=\"text-align: right;\">\n",
       "      <th></th>\n",
       "      <th>year</th>\n",
       "      <th>month</th>\n",
       "      <th>lat</th>\n",
       "      <th>lon</th>\n",
       "      <th>U2M</th>\n",
       "      <th>V2M</th>\n",
       "      <th>wind_speed</th>\n",
       "      <th>wind_direction</th>\n",
       "      <th>state</th>\n",
       "    </tr>\n",
       "  </thead>\n",
       "  <tbody>\n",
       "    <tr>\n",
       "      <th>0</th>\n",
       "      <td>2020</td>\n",
       "      <td>05</td>\n",
       "      <td>-84.130439</td>\n",
       "      <td>35.026829</td>\n",
       "      <td>-0.912632</td>\n",
       "      <td>-7.177592</td>\n",
       "      <td>7.235380</td>\n",
       "      <td>-1.697268</td>\n",
       "      <td>North Carolina</td>\n",
       "    </tr>\n",
       "    <tr>\n",
       "      <th>1</th>\n",
       "      <td>2020</td>\n",
       "      <td>11</td>\n",
       "      <td>-84.130439</td>\n",
       "      <td>35.026829</td>\n",
       "      <td>-0.587639</td>\n",
       "      <td>-6.238688</td>\n",
       "      <td>6.266303</td>\n",
       "      <td>-1.664712</td>\n",
       "      <td>North Carolina</td>\n",
       "    </tr>\n",
       "    <tr>\n",
       "      <th>2</th>\n",
       "      <td>2020</td>\n",
       "      <td>10</td>\n",
       "      <td>-84.130439</td>\n",
       "      <td>35.026829</td>\n",
       "      <td>-0.765436</td>\n",
       "      <td>-6.841957</td>\n",
       "      <td>6.884640</td>\n",
       "      <td>-1.682207</td>\n",
       "      <td>North Carolina</td>\n",
       "    </tr>\n",
       "    <tr>\n",
       "      <th>3</th>\n",
       "      <td>2020</td>\n",
       "      <td>04</td>\n",
       "      <td>-84.130439</td>\n",
       "      <td>35.026829</td>\n",
       "      <td>-0.003099</td>\n",
       "      <td>-5.721738</td>\n",
       "      <td>5.721739</td>\n",
       "      <td>-1.571338</td>\n",
       "      <td>North Carolina</td>\n",
       "    </tr>\n",
       "    <tr>\n",
       "      <th>4</th>\n",
       "      <td>2020</td>\n",
       "      <td>12</td>\n",
       "      <td>-84.130439</td>\n",
       "      <td>35.026829</td>\n",
       "      <td>0.184595</td>\n",
       "      <td>-5.193373</td>\n",
       "      <td>5.196653</td>\n",
       "      <td>-1.535267</td>\n",
       "      <td>North Carolina</td>\n",
       "    </tr>\n",
       "    <tr>\n",
       "      <th>...</th>\n",
       "      <td>...</td>\n",
       "      <td>...</td>\n",
       "      <td>...</td>\n",
       "      <td>...</td>\n",
       "      <td>...</td>\n",
       "      <td>...</td>\n",
       "      <td>...</td>\n",
       "      <td>...</td>\n",
       "      <td>...</td>\n",
       "    </tr>\n",
       "    <tr>\n",
       "      <th>23546</th>\n",
       "      <td>2020</td>\n",
       "      <td>07</td>\n",
       "      <td>-80.972182</td>\n",
       "      <td>35.362070</td>\n",
       "      <td>-1.724610</td>\n",
       "      <td>-7.114029</td>\n",
       "      <td>7.320088</td>\n",
       "      <td>-1.808632</td>\n",
       "      <td>North Carolina</td>\n",
       "    </tr>\n",
       "    <tr>\n",
       "      <th>23547</th>\n",
       "      <td>2020</td>\n",
       "      <td>03</td>\n",
       "      <td>-80.972182</td>\n",
       "      <td>35.362070</td>\n",
       "      <td>-0.073339</td>\n",
       "      <td>-5.332247</td>\n",
       "      <td>5.332751</td>\n",
       "      <td>-1.584549</td>\n",
       "      <td>North Carolina</td>\n",
       "    </tr>\n",
       "    <tr>\n",
       "      <th>23548</th>\n",
       "      <td>2020</td>\n",
       "      <td>02</td>\n",
       "      <td>-80.972182</td>\n",
       "      <td>35.362070</td>\n",
       "      <td>-0.120095</td>\n",
       "      <td>-5.707527</td>\n",
       "      <td>5.708791</td>\n",
       "      <td>-1.591835</td>\n",
       "      <td>North Carolina</td>\n",
       "    </tr>\n",
       "    <tr>\n",
       "      <th>23549</th>\n",
       "      <td>2020</td>\n",
       "      <td>01</td>\n",
       "      <td>-80.972182</td>\n",
       "      <td>35.362070</td>\n",
       "      <td>0.797993</td>\n",
       "      <td>-4.801731</td>\n",
       "      <td>4.867588</td>\n",
       "      <td>-1.406113</td>\n",
       "      <td>North Carolina</td>\n",
       "    </tr>\n",
       "    <tr>\n",
       "      <th>23550</th>\n",
       "      <td>2020</td>\n",
       "      <td>08</td>\n",
       "      <td>-80.972182</td>\n",
       "      <td>35.362070</td>\n",
       "      <td>-1.650186</td>\n",
       "      <td>-7.372461</td>\n",
       "      <td>7.554885</td>\n",
       "      <td>-1.790998</td>\n",
       "      <td>North Carolina</td>\n",
       "    </tr>\n",
       "  </tbody>\n",
       "</table>\n",
       "<p>23551 rows × 9 columns</p>\n",
       "</div>"
      ],
      "text/plain": [
       "       year month        lat        lon       U2M       V2M  wind_speed  \\\n",
       "0      2020    05 -84.130439  35.026829 -0.912632 -7.177592    7.235380   \n",
       "1      2020    11 -84.130439  35.026829 -0.587639 -6.238688    6.266303   \n",
       "2      2020    10 -84.130439  35.026829 -0.765436 -6.841957    6.884640   \n",
       "3      2020    04 -84.130439  35.026829 -0.003099 -5.721738    5.721739   \n",
       "4      2020    12 -84.130439  35.026829  0.184595 -5.193373    5.196653   \n",
       "...     ...   ...        ...        ...       ...       ...         ...   \n",
       "23546  2020    07 -80.972182  35.362070 -1.724610 -7.114029    7.320088   \n",
       "23547  2020    03 -80.972182  35.362070 -0.073339 -5.332247    5.332751   \n",
       "23548  2020    02 -80.972182  35.362070 -0.120095 -5.707527    5.708791   \n",
       "23549  2020    01 -80.972182  35.362070  0.797993 -4.801731    4.867588   \n",
       "23550  2020    08 -80.972182  35.362070 -1.650186 -7.372461    7.554885   \n",
       "\n",
       "       wind_direction           state  \n",
       "0           -1.697268  North Carolina  \n",
       "1           -1.664712  North Carolina  \n",
       "2           -1.682207  North Carolina  \n",
       "3           -1.571338  North Carolina  \n",
       "4           -1.535267  North Carolina  \n",
       "...               ...             ...  \n",
       "23546       -1.808632  North Carolina  \n",
       "23547       -1.584549  North Carolina  \n",
       "23548       -1.591835  North Carolina  \n",
       "23549       -1.406113  North Carolina  \n",
       "23550       -1.790998  North Carolina  \n",
       "\n",
       "[23551 rows x 9 columns]"
      ]
     },
     "execution_count": 9,
     "metadata": {},
     "output_type": "execute_result"
    }
   ],
   "source": [
    "df"
   ]
  },
  {
   "cell_type": "code",
   "execution_count": 10,
   "id": "1082450d",
   "metadata": {},
   "outputs": [],
   "source": [
    "df.to_csv('North_carolina.csv', index=False  )"
   ]
  },
  {
   "cell_type": "code",
   "execution_count": null,
   "id": "f4edb0f9",
   "metadata": {},
   "outputs": [],
   "source": []
  }
 ],
 "metadata": {
  "kernelspec": {
   "display_name": "Python 3",
   "language": "python",
   "name": "python3"
  },
  "language_info": {
   "codemirror_mode": {
    "name": "ipython",
    "version": 3
   },
   "file_extension": ".py",
   "mimetype": "text/x-python",
   "name": "python",
   "nbconvert_exporter": "python",
   "pygments_lexer": "ipython3",
   "version": "3.8.8"
  }
 },
 "nbformat": 4,
 "nbformat_minor": 5
}
