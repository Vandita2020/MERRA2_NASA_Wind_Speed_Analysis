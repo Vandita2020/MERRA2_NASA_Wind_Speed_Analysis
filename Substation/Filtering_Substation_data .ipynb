{
 "cells": [
  {
   "cell_type": "code",
   "execution_count": 1,
   "id": "b6b6056c",
   "metadata": {},
   "outputs": [],
   "source": [
    "import pandas as pd\n",
    "import numpy as np"
   ]
  },
  {
   "cell_type": "code",
   "execution_count": 2,
   "id": "eb41c107",
   "metadata": {},
   "outputs": [],
   "source": [
    "df = pd.read_csv(\"Substation_csv/Electric_Substations_FL.csv\")"
   ]
  },
  {
   "cell_type": "code",
   "execution_count": 3,
   "id": "bd73b491",
   "metadata": {},
   "outputs": [],
   "source": [
    "df = df[df['TYPE']=='SUBSTATION'].reset_index()"
   ]
  },
  {
   "cell_type": "code",
   "execution_count": 4,
   "id": "712f1f1b",
   "metadata": {},
   "outputs": [],
   "source": [
    "coords = [(x,y) for x, y in zip(df[\"LONGITUDE\"], df[\"LATITUDE\"])]"
   ]
  },
  {
   "cell_type": "code",
   "execution_count": 5,
   "id": "a061e0ff",
   "metadata": {},
   "outputs": [],
   "source": [
    "new_df = pd.DataFrame(coords)"
   ]
  },
  {
   "cell_type": "code",
   "execution_count": 14,
   "id": "33acdf6c",
   "metadata": {},
   "outputs": [],
   "source": [
    "new_df.rename(columns={0:'lon', 1:'lat'}, inplace=True)"
   ]
  },
  {
   "cell_type": "code",
   "execution_count": null,
   "id": "d569ff62",
   "metadata": {
    "scrolled": true
   },
   "outputs": [],
   "source": [
    "new_df.to_csv(\"geo_location_FL.csv\", index=False)"
   ]
  },
  {
   "cell_type": "code",
   "execution_count": null,
   "id": "75c10ccc",
   "metadata": {},
   "outputs": [],
   "source": [
    "df1 = pd.read_csv(\"geo_location_FL.csv\")"
   ]
  },
  {
   "cell_type": "code",
   "execution_count": null,
   "id": "1e07bc37",
   "metadata": {},
   "outputs": [],
   "source": [
    "df1"
   ]
  }
 ],
 "metadata": {
  "kernelspec": {
   "display_name": "Python 3",
   "language": "python",
   "name": "python3"
  },
  "language_info": {
   "codemirror_mode": {
    "name": "ipython",
    "version": 3
   },
   "file_extension": ".py",
   "mimetype": "text/x-python",
   "name": "python",
   "nbconvert_exporter": "python",
   "pygments_lexer": "ipython3",
   "version": "3.8.8"
  }
 },
 "nbformat": 4,
 "nbformat_minor": 5
}
